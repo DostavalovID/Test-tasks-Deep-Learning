{
  "nbformat": 4,
  "nbformat_minor": 0,
  "metadata": {
    "colab": {
      "provenance": [],
      "collapsed_sections": []
    },
    "kernelspec": {
      "name": "python3",
      "display_name": "Python 3"
    },
    "language_info": {
      "name": "python"
    }
  },
  "cells": [
    {
      "cell_type": "code",
      "source": [
        "# подразумевается что запускаем данный ноутбук с библиотеками имеющимися на google colab. В случае запуска локально,\n",
        "# пожалуйста установите необходимые библиотеки такие как numpy, pandas, torch и тд. \n",
        "\n",
        "!pip install sentence_transformers\n",
        "!pip install termcolor\n",
        "!pip install transformers"
      ],
      "metadata": {
        "colab": {
          "base_uri": "https://localhost:8080/"
        },
        "id": "Zw3uTi71iJVG",
        "outputId": "69229db6-a35d-4356-f3ce-a4f6c73b754c"
      },
      "execution_count": 1,
      "outputs": [
        {
          "output_type": "stream",
          "name": "stdout",
          "text": [
            "Looking in indexes: https://pypi.org/simple, https://us-python.pkg.dev/colab-wheels/public/simple/\n",
            "Requirement already satisfied: sentence_transformers in /usr/local/lib/python3.7/dist-packages (2.2.2)\n",
            "Requirement already satisfied: tqdm in /usr/local/lib/python3.7/dist-packages (from sentence_transformers) (4.64.0)\n",
            "Requirement already satisfied: numpy in /usr/local/lib/python3.7/dist-packages (from sentence_transformers) (1.21.6)\n",
            "Requirement already satisfied: sentencepiece in /usr/local/lib/python3.7/dist-packages (from sentence_transformers) (0.1.97)\n",
            "Requirement already satisfied: huggingface-hub>=0.4.0 in /usr/local/lib/python3.7/dist-packages (from sentence_transformers) (0.9.1)\n",
            "Requirement already satisfied: scipy in /usr/local/lib/python3.7/dist-packages (from sentence_transformers) (1.7.3)\n",
            "Requirement already satisfied: nltk in /usr/local/lib/python3.7/dist-packages (from sentence_transformers) (3.7)\n",
            "Requirement already satisfied: scikit-learn in /usr/local/lib/python3.7/dist-packages (from sentence_transformers) (1.0.2)\n",
            "Requirement already satisfied: torchvision in /usr/local/lib/python3.7/dist-packages (from sentence_transformers) (0.13.1+cu113)\n",
            "Requirement already satisfied: torch>=1.6.0 in /usr/local/lib/python3.7/dist-packages (from sentence_transformers) (1.12.1+cu113)\n",
            "Requirement already satisfied: transformers<5.0.0,>=4.6.0 in /usr/local/lib/python3.7/dist-packages (from sentence_transformers) (4.21.2)\n",
            "Requirement already satisfied: filelock in /usr/local/lib/python3.7/dist-packages (from huggingface-hub>=0.4.0->sentence_transformers) (3.8.0)\n",
            "Requirement already satisfied: typing-extensions>=3.7.4.3 in /usr/local/lib/python3.7/dist-packages (from huggingface-hub>=0.4.0->sentence_transformers) (4.1.1)\n",
            "Requirement already satisfied: requests in /usr/local/lib/python3.7/dist-packages (from huggingface-hub>=0.4.0->sentence_transformers) (2.23.0)\n",
            "Requirement already satisfied: pyyaml>=5.1 in /usr/local/lib/python3.7/dist-packages (from huggingface-hub>=0.4.0->sentence_transformers) (6.0)\n",
            "Requirement already satisfied: importlib-metadata in /usr/local/lib/python3.7/dist-packages (from huggingface-hub>=0.4.0->sentence_transformers) (4.12.0)\n",
            "Requirement already satisfied: packaging>=20.9 in /usr/local/lib/python3.7/dist-packages (from huggingface-hub>=0.4.0->sentence_transformers) (21.3)\n",
            "Requirement already satisfied: pyparsing!=3.0.5,>=2.0.2 in /usr/local/lib/python3.7/dist-packages (from packaging>=20.9->huggingface-hub>=0.4.0->sentence_transformers) (3.0.9)\n",
            "Requirement already satisfied: tokenizers!=0.11.3,<0.13,>=0.11.1 in /usr/local/lib/python3.7/dist-packages (from transformers<5.0.0,>=4.6.0->sentence_transformers) (0.12.1)\n",
            "Requirement already satisfied: regex!=2019.12.17 in /usr/local/lib/python3.7/dist-packages (from transformers<5.0.0,>=4.6.0->sentence_transformers) (2022.6.2)\n",
            "Requirement already satisfied: zipp>=0.5 in /usr/local/lib/python3.7/dist-packages (from importlib-metadata->huggingface-hub>=0.4.0->sentence_transformers) (3.8.1)\n",
            "Requirement already satisfied: joblib in /usr/local/lib/python3.7/dist-packages (from nltk->sentence_transformers) (1.1.0)\n",
            "Requirement already satisfied: click in /usr/local/lib/python3.7/dist-packages (from nltk->sentence_transformers) (7.1.2)\n",
            "Requirement already satisfied: certifi>=2017.4.17 in /usr/local/lib/python3.7/dist-packages (from requests->huggingface-hub>=0.4.0->sentence_transformers) (2022.6.15)\n",
            "Requirement already satisfied: urllib3!=1.25.0,!=1.25.1,<1.26,>=1.21.1 in /usr/local/lib/python3.7/dist-packages (from requests->huggingface-hub>=0.4.0->sentence_transformers) (1.24.3)\n",
            "Requirement already satisfied: idna<3,>=2.5 in /usr/local/lib/python3.7/dist-packages (from requests->huggingface-hub>=0.4.0->sentence_transformers) (2.10)\n",
            "Requirement already satisfied: chardet<4,>=3.0.2 in /usr/local/lib/python3.7/dist-packages (from requests->huggingface-hub>=0.4.0->sentence_transformers) (3.0.4)\n",
            "Requirement already satisfied: threadpoolctl>=2.0.0 in /usr/local/lib/python3.7/dist-packages (from scikit-learn->sentence_transformers) (3.1.0)\n",
            "Requirement already satisfied: pillow!=8.3.*,>=5.3.0 in /usr/local/lib/python3.7/dist-packages (from torchvision->sentence_transformers) (7.1.2)\n",
            "Looking in indexes: https://pypi.org/simple, https://us-python.pkg.dev/colab-wheels/public/simple/\n",
            "Requirement already satisfied: termcolor in /usr/local/lib/python3.7/dist-packages (1.1.0)\n",
            "Looking in indexes: https://pypi.org/simple, https://us-python.pkg.dev/colab-wheels/public/simple/\n",
            "Requirement already satisfied: transformers in /usr/local/lib/python3.7/dist-packages (4.21.2)\n",
            "Requirement already satisfied: tokenizers!=0.11.3,<0.13,>=0.11.1 in /usr/local/lib/python3.7/dist-packages (from transformers) (0.12.1)\n",
            "Requirement already satisfied: huggingface-hub<1.0,>=0.1.0 in /usr/local/lib/python3.7/dist-packages (from transformers) (0.9.1)\n",
            "Requirement already satisfied: tqdm>=4.27 in /usr/local/lib/python3.7/dist-packages (from transformers) (4.64.0)\n",
            "Requirement already satisfied: requests in /usr/local/lib/python3.7/dist-packages (from transformers) (2.23.0)\n",
            "Requirement already satisfied: importlib-metadata in /usr/local/lib/python3.7/dist-packages (from transformers) (4.12.0)\n",
            "Requirement already satisfied: regex!=2019.12.17 in /usr/local/lib/python3.7/dist-packages (from transformers) (2022.6.2)\n",
            "Requirement already satisfied: pyyaml>=5.1 in /usr/local/lib/python3.7/dist-packages (from transformers) (6.0)\n",
            "Requirement already satisfied: numpy>=1.17 in /usr/local/lib/python3.7/dist-packages (from transformers) (1.21.6)\n",
            "Requirement already satisfied: filelock in /usr/local/lib/python3.7/dist-packages (from transformers) (3.8.0)\n",
            "Requirement already satisfied: packaging>=20.0 in /usr/local/lib/python3.7/dist-packages (from transformers) (21.3)\n",
            "Requirement already satisfied: typing-extensions>=3.7.4.3 in /usr/local/lib/python3.7/dist-packages (from huggingface-hub<1.0,>=0.1.0->transformers) (4.1.1)\n",
            "Requirement already satisfied: pyparsing!=3.0.5,>=2.0.2 in /usr/local/lib/python3.7/dist-packages (from packaging>=20.0->transformers) (3.0.9)\n",
            "Requirement already satisfied: zipp>=0.5 in /usr/local/lib/python3.7/dist-packages (from importlib-metadata->transformers) (3.8.1)\n",
            "Requirement already satisfied: idna<3,>=2.5 in /usr/local/lib/python3.7/dist-packages (from requests->transformers) (2.10)\n",
            "Requirement already satisfied: chardet<4,>=3.0.2 in /usr/local/lib/python3.7/dist-packages (from requests->transformers) (3.0.4)\n",
            "Requirement already satisfied: urllib3!=1.25.0,!=1.25.1,<1.26,>=1.21.1 in /usr/local/lib/python3.7/dist-packages (from requests->transformers) (1.24.3)\n",
            "Requirement already satisfied: certifi>=2017.4.17 in /usr/local/lib/python3.7/dist-packages (from requests->transformers) (2022.6.15)\n"
          ]
        }
      ]
    },
    {
      "cell_type": "code",
      "execution_count": 2,
      "metadata": {
        "id": "Gx3EpoIN-VHW"
      },
      "outputs": [],
      "source": [
        "import pandas as pd\n",
        "import numpy as np\n",
        "from sklearn.metrics.pairwise import cosine_similarity\n",
        "from sentence_transformers import SentenceTransformer\n",
        "from transformers import pipeline\n",
        "from termcolor import colored\n",
        "import torch\n",
        "\n",
        "df = pd.read_csv('test_data.csv').copy()\n",
        "\n",
        "\n",
        "# нужно:\n",
        "# 1) извлекать реплики, где менеджер поздоровался\n",
        "# 2) извлекать реплики, где менеджер представил себя\n",
        "# 3) извлекать имя менеджера\n",
        "# 4) извлекать название компании (возможно в репликах клиента тоже)\n",
        "# 5) извлекать реплики где менеджер попрощался\n",
        "# 6) проверять требование к менеджеру, обязательно надо поздороваться и попрощаться\n"
      ]
    },
    {
      "cell_type": "code",
      "source": [
        "df # посмотрим на базу данных"
      ],
      "metadata": {
        "colab": {
          "base_uri": "https://localhost:8080/",
          "height": 424
        },
        "id": "tGxwzn9abPHW",
        "outputId": "97ac80c1-4b64-4808-80b8-7424ee4628d0"
      },
      "execution_count": 3,
      "outputs": [
        {
          "output_type": "execute_result",
          "data": {
            "text/plain": [
              "     dlg_id  line_n     role  \\\n",
              "0         0       0   client   \n",
              "1         0       1  manager   \n",
              "2         0       2   client   \n",
              "3         0       3  manager   \n",
              "4         0       4   client   \n",
              "..      ...     ...      ...   \n",
              "475       5     138  manager   \n",
              "476       5     139  manager   \n",
              "477       5     140   client   \n",
              "478       5     141   client   \n",
              "479       5     142  manager   \n",
              "\n",
              "                                                  text  \n",
              "0                                                 Алло  \n",
              "1                                    Алло здравствуйте  \n",
              "2                                          Добрый день  \n",
              "3    Меня зовут ангелина компания диджитал бизнес з...  \n",
              "4                                                  Ага  \n",
              "..                                                 ...  \n",
              "475  По поводу виджетов и с ними уже обсудите конкр...  \n",
              "476  Все я вам высылаю счет и с вами на связи если ...  \n",
              "477                                    Спасибо спасибо  \n",
              "478     Да да тогда созвонимся ага спасибо вам давайте  \n",
              "479                     Ну до свидания хорошего вечера  \n",
              "\n",
              "[480 rows x 4 columns]"
            ],
            "text/html": [
              "\n",
              "  <div id=\"df-b80cf4ca-35ac-4327-bd74-8cc246e5c380\">\n",
              "    <div class=\"colab-df-container\">\n",
              "      <div>\n",
              "<style scoped>\n",
              "    .dataframe tbody tr th:only-of-type {\n",
              "        vertical-align: middle;\n",
              "    }\n",
              "\n",
              "    .dataframe tbody tr th {\n",
              "        vertical-align: top;\n",
              "    }\n",
              "\n",
              "    .dataframe thead th {\n",
              "        text-align: right;\n",
              "    }\n",
              "</style>\n",
              "<table border=\"1\" class=\"dataframe\">\n",
              "  <thead>\n",
              "    <tr style=\"text-align: right;\">\n",
              "      <th></th>\n",
              "      <th>dlg_id</th>\n",
              "      <th>line_n</th>\n",
              "      <th>role</th>\n",
              "      <th>text</th>\n",
              "    </tr>\n",
              "  </thead>\n",
              "  <tbody>\n",
              "    <tr>\n",
              "      <th>0</th>\n",
              "      <td>0</td>\n",
              "      <td>0</td>\n",
              "      <td>client</td>\n",
              "      <td>Алло</td>\n",
              "    </tr>\n",
              "    <tr>\n",
              "      <th>1</th>\n",
              "      <td>0</td>\n",
              "      <td>1</td>\n",
              "      <td>manager</td>\n",
              "      <td>Алло здравствуйте</td>\n",
              "    </tr>\n",
              "    <tr>\n",
              "      <th>2</th>\n",
              "      <td>0</td>\n",
              "      <td>2</td>\n",
              "      <td>client</td>\n",
              "      <td>Добрый день</td>\n",
              "    </tr>\n",
              "    <tr>\n",
              "      <th>3</th>\n",
              "      <td>0</td>\n",
              "      <td>3</td>\n",
              "      <td>manager</td>\n",
              "      <td>Меня зовут ангелина компания диджитал бизнес з...</td>\n",
              "    </tr>\n",
              "    <tr>\n",
              "      <th>4</th>\n",
              "      <td>0</td>\n",
              "      <td>4</td>\n",
              "      <td>client</td>\n",
              "      <td>Ага</td>\n",
              "    </tr>\n",
              "    <tr>\n",
              "      <th>...</th>\n",
              "      <td>...</td>\n",
              "      <td>...</td>\n",
              "      <td>...</td>\n",
              "      <td>...</td>\n",
              "    </tr>\n",
              "    <tr>\n",
              "      <th>475</th>\n",
              "      <td>5</td>\n",
              "      <td>138</td>\n",
              "      <td>manager</td>\n",
              "      <td>По поводу виджетов и с ними уже обсудите конкр...</td>\n",
              "    </tr>\n",
              "    <tr>\n",
              "      <th>476</th>\n",
              "      <td>5</td>\n",
              "      <td>139</td>\n",
              "      <td>manager</td>\n",
              "      <td>Все я вам высылаю счет и с вами на связи если ...</td>\n",
              "    </tr>\n",
              "    <tr>\n",
              "      <th>477</th>\n",
              "      <td>5</td>\n",
              "      <td>140</td>\n",
              "      <td>client</td>\n",
              "      <td>Спасибо спасибо</td>\n",
              "    </tr>\n",
              "    <tr>\n",
              "      <th>478</th>\n",
              "      <td>5</td>\n",
              "      <td>141</td>\n",
              "      <td>client</td>\n",
              "      <td>Да да тогда созвонимся ага спасибо вам давайте</td>\n",
              "    </tr>\n",
              "    <tr>\n",
              "      <th>479</th>\n",
              "      <td>5</td>\n",
              "      <td>142</td>\n",
              "      <td>manager</td>\n",
              "      <td>Ну до свидания хорошего вечера</td>\n",
              "    </tr>\n",
              "  </tbody>\n",
              "</table>\n",
              "<p>480 rows × 4 columns</p>\n",
              "</div>\n",
              "      <button class=\"colab-df-convert\" onclick=\"convertToInteractive('df-b80cf4ca-35ac-4327-bd74-8cc246e5c380')\"\n",
              "              title=\"Convert this dataframe to an interactive table.\"\n",
              "              style=\"display:none;\">\n",
              "        \n",
              "  <svg xmlns=\"http://www.w3.org/2000/svg\" height=\"24px\"viewBox=\"0 0 24 24\"\n",
              "       width=\"24px\">\n",
              "    <path d=\"M0 0h24v24H0V0z\" fill=\"none\"/>\n",
              "    <path d=\"M18.56 5.44l.94 2.06.94-2.06 2.06-.94-2.06-.94-.94-2.06-.94 2.06-2.06.94zm-11 1L8.5 8.5l.94-2.06 2.06-.94-2.06-.94L8.5 2.5l-.94 2.06-2.06.94zm10 10l.94 2.06.94-2.06 2.06-.94-2.06-.94-.94-2.06-.94 2.06-2.06.94z\"/><path d=\"M17.41 7.96l-1.37-1.37c-.4-.4-.92-.59-1.43-.59-.52 0-1.04.2-1.43.59L10.3 9.45l-7.72 7.72c-.78.78-.78 2.05 0 2.83L4 21.41c.39.39.9.59 1.41.59.51 0 1.02-.2 1.41-.59l7.78-7.78 2.81-2.81c.8-.78.8-2.07 0-2.86zM5.41 20L4 18.59l7.72-7.72 1.47 1.35L5.41 20z\"/>\n",
              "  </svg>\n",
              "      </button>\n",
              "      \n",
              "  <style>\n",
              "    .colab-df-container {\n",
              "      display:flex;\n",
              "      flex-wrap:wrap;\n",
              "      gap: 12px;\n",
              "    }\n",
              "\n",
              "    .colab-df-convert {\n",
              "      background-color: #E8F0FE;\n",
              "      border: none;\n",
              "      border-radius: 50%;\n",
              "      cursor: pointer;\n",
              "      display: none;\n",
              "      fill: #1967D2;\n",
              "      height: 32px;\n",
              "      padding: 0 0 0 0;\n",
              "      width: 32px;\n",
              "    }\n",
              "\n",
              "    .colab-df-convert:hover {\n",
              "      background-color: #E2EBFA;\n",
              "      box-shadow: 0px 1px 2px rgba(60, 64, 67, 0.3), 0px 1px 3px 1px rgba(60, 64, 67, 0.15);\n",
              "      fill: #174EA6;\n",
              "    }\n",
              "\n",
              "    [theme=dark] .colab-df-convert {\n",
              "      background-color: #3B4455;\n",
              "      fill: #D2E3FC;\n",
              "    }\n",
              "\n",
              "    [theme=dark] .colab-df-convert:hover {\n",
              "      background-color: #434B5C;\n",
              "      box-shadow: 0px 1px 3px 1px rgba(0, 0, 0, 0.15);\n",
              "      filter: drop-shadow(0px 1px 2px rgba(0, 0, 0, 0.3));\n",
              "      fill: #FFFFFF;\n",
              "    }\n",
              "  </style>\n",
              "\n",
              "      <script>\n",
              "        const buttonEl =\n",
              "          document.querySelector('#df-b80cf4ca-35ac-4327-bd74-8cc246e5c380 button.colab-df-convert');\n",
              "        buttonEl.style.display =\n",
              "          google.colab.kernel.accessAllowed ? 'block' : 'none';\n",
              "\n",
              "        async function convertToInteractive(key) {\n",
              "          const element = document.querySelector('#df-b80cf4ca-35ac-4327-bd74-8cc246e5c380');\n",
              "          const dataTable =\n",
              "            await google.colab.kernel.invokeFunction('convertToInteractive',\n",
              "                                                     [key], {});\n",
              "          if (!dataTable) return;\n",
              "\n",
              "          const docLinkHtml = 'Like what you see? Visit the ' +\n",
              "            '<a target=\"_blank\" href=https://colab.research.google.com/notebooks/data_table.ipynb>data table notebook</a>'\n",
              "            + ' to learn more about interactive tables.';\n",
              "          element.innerHTML = '';\n",
              "          dataTable['output_type'] = 'display_data';\n",
              "          await google.colab.output.renderOutput(dataTable, element);\n",
              "          const docLink = document.createElement('div');\n",
              "          docLink.innerHTML = docLinkHtml;\n",
              "          element.appendChild(docLink);\n",
              "        }\n",
              "      </script>\n",
              "    </div>\n",
              "  </div>\n",
              "  "
            ]
          },
          "metadata": {},
          "execution_count": 3
        }
      ]
    },
    {
      "cell_type": "code",
      "source": [
        "# загрузим большую модель для более качественного построения эмбеддингов\n",
        "\n",
        "bert = SentenceTransformer('sberbank-ai/sbert_large_mt_nlu_ru') "
      ],
      "metadata": {
        "colab": {
          "base_uri": "https://localhost:8080/"
        },
        "id": "GzmmuRCTZ1Co",
        "outputId": "d8e467a1-fe9b-45aa-a28a-43d7fa85afa2"
      },
      "execution_count": 4,
      "outputs": [
        {
          "output_type": "stream",
          "name": "stderr",
          "text": [
            "WARNING:sentence_transformers.SentenceTransformer:No sentence-transformers model found with name /root/.cache/torch/sentence_transformers/sberbank-ai_sbert_large_mt_nlu_ru. Creating a new one with MEAN pooling.\n"
          ]
        }
      ]
    },
    {
      "cell_type": "code",
      "source": [
        "# поскольку проверять большинство пунктов надо именно у менеджера, поэтому именно \n",
        "# реплики менеджера мы проведем через модель и получим эмбеддинги, тем самым сэкономив время вычислений\n",
        "\n",
        "manager_encondings = bert.encode(df['text'][df['role'] == 'manager'].values)"
      ],
      "metadata": {
        "id": "tfFQ9d-raqdq"
      },
      "execution_count": 5,
      "outputs": []
    },
    {
      "cell_type": "code",
      "source": [
        "# для того, чтобы найти предложения, в которых менеджер приветствуют клиента,\n",
        "# постараемся подобрать синонимичные фразы, далее их закодируем и с помощью косинусной меры схожести\n",
        "# попытаемся найти нужные предложения\n",
        "\n",
        "greeting_encoding = bert.encode(['Здравствуйте','Привет', 'Добрый день', 'Доброе утро'])"
      ],
      "metadata": {
        "id": "l0YmYrREbQ_G"
      },
      "execution_count": 6,
      "outputs": []
    },
    {
      "cell_type": "code",
      "source": [
        "# для удобства напишем функцию, которая по эмбеддингам определяет нужные индексы реплик в базе данных\n",
        "# гиперпараметрами в данном случае выступят порог и аггрериующая статистика. \n",
        "\n",
        "def indices_of(needed_embeddings, manager_embeddings, threshold, aggr_statistics='mean'):\n",
        "    indices = []\n",
        "    stat = 0\n",
        "    similarities = cosine_similarity(needed_embeddings, manager_embeddings)\n",
        "    for i in range(len(similarities[0])):\n",
        "        if aggr_statistics=='mean':\n",
        "            stat = similarities[:, i].mean()\n",
        "        elif aggr_statistics =='max':\n",
        "            stat = similarities[:, i].max()\n",
        "        if  stat > threshold:\n",
        "            indices.append(df['text'][df['role'] == 'manager'].index[i])\n",
        "    return indices\n"
      ],
      "metadata": {
        "id": "Blog9k57dkTg"
      },
      "execution_count": 7,
      "outputs": []
    },
    {
      "cell_type": "code",
      "source": [
        "# вызовем написанную функцию и проверим её работоспособность\n",
        "\n",
        "greeting_indices = indices_of(greeting_encoding, manager_encondings, 0.6)\n",
        "df['text'][greeting_indices]"
      ],
      "metadata": {
        "id": "iwZkZutJph2z",
        "colab": {
          "base_uri": "https://localhost:8080/"
        },
        "outputId": "40c6b162-cc21-4a28-95db-d89766295862"
      },
      "execution_count": 8,
      "outputs": [
        {
          "output_type": "execute_result",
          "data": {
            "text/plain": [
              "1             Алло здравствуйте\n",
              "110           Алло здравствуйте\n",
              "166           Алло здравствуйте\n",
              "250    Алло дмитрий добрый день\n",
              "Name: text, dtype: object"
            ]
          },
          "metadata": {},
          "execution_count": 8
        }
      ]
    },
    {
      "cell_type": "code",
      "source": [
        "# по заданию нам также надо находить реплики где менеджер прощается с клиентом\n",
        "# аналогично приветствию проделаем шаги \n",
        "\n",
        "bye_encoding = bert.encode(['До свидания', 'До встречи','Пока', 'Всего хорошего'])\n",
        "bye_indices = indices_of(bye_encoding, manager_encondings, 0.47)\n",
        "df['text'][bye_indices]"
      ],
      "metadata": {
        "id": "-4WfFpQ5pwg0",
        "colab": {
          "base_uri": "https://localhost:8080/"
        },
        "outputId": "d004f4cf-6acc-4e1a-fff3-e1d845bd3712"
      },
      "execution_count": 9,
      "outputs": [
        {
          "output_type": "execute_result",
          "data": {
            "text/plain": [
              "108                           Всего хорошего до свидания\n",
              "163                                          До свидания\n",
              "300    Угу все хорошо да понедельника тогда всего доб...\n",
              "335    Во вторник все ну с вами да тогда до вторника ...\n",
              "479                       Ну до свидания хорошего вечера\n",
              "Name: text, dtype: object"
            ]
          },
          "metadata": {},
          "execution_count": 9
        }
      ]
    },
    {
      "cell_type": "code",
      "source": [
        "# Пункт с нахождением реплик где менеджер представился также можно сделать этим методом с помощью \n",
        "# синонимичных выражений. Однако за счет того, что в предложениях, где менеджер представился\n",
        "# присутствует много различных слов помимо нужных, метрика среднего по синонимам показывает себя хуже\n",
        "# и было принято решение в данном случае использовать максимум по синонимам. Так удалось найти параметры,\n",
        "# которые позволили дать более точный ответ. \n",
        "\n",
        "name_encoding = bert.encode(['Меня зовут', 'Мое имя', 'Да это мое имя'])\n",
        "name_indices = indices_of(name_encoding, manager_encondings, 0.42, 'max')\n",
        "df['text'][name_indices]"
      ],
      "metadata": {
        "id": "G70xUsy1JZlp",
        "colab": {
          "base_uri": "https://localhost:8080/"
        },
        "outputId": "dbaad341-904f-4637-d3f1-12273d84396d"
      },
      "execution_count": 10,
      "outputs": [
        {
          "output_type": "execute_result",
          "data": {
            "text/plain": [
              "3      Меня зовут ангелина компания диджитал бизнес з...\n",
              "111    Меня зовут ангелина компания диджитал бизнес з...\n",
              "167    Меня зовут ангелина компания диджитал бизнес з...\n",
              "251    Добрый меня максим зовут компания китобизнес у...\n",
              "338                                     Да это анастасия\n",
              "Name: text, dtype: object"
            ]
          },
          "metadata": {},
          "execution_count": 10
        }
      ]
    },
    {
      "cell_type": "code",
      "source": [
        "# для извлечения имен и названий компаний здесь нужно использовать Named Entity Recognition.\n",
        "# в ходе работы были рассмотрены различные модели (spacy/ru_core_news_sm,\n",
        "# spacy/ru_core_news_lg,  Babelscape/wikineural-multilingual-ner) однако данные модели не показали себя хорошо\n",
        "# в данной задаче. И в целом, NER на русском решается менее качественно, чем на английском,\n",
        "# однако модель, которую нашел ниже, показывает лучше результаты чем предыдущие, поэтому продолжим \n",
        "# попытки именно с ней\n",
        "\n",
        "class Ner_Extractor:\n",
        "    \"\"\"\n",
        "    Labeling each token in sentence as named entity\n",
        "\n",
        "    :param model_checkpoint: name or path to model \n",
        "    :type model_checkpoint: string\n",
        "    \"\"\"\n",
        "    \n",
        "    def __init__(self, model_checkpoint: str):\n",
        "        self.token_pred_pipeline = pipeline(\"token-classification\", \n",
        "                                            model=model_checkpoint, \n",
        "                                            aggregation_strategy=\"average\")\n",
        "    \n",
        "    @staticmethod\n",
        "    def text_color(txt, txt_c=\"blue\", txt_hglt=\"on_yellow\"):\n",
        "        \"\"\"\n",
        "        Coloring part of text \n",
        "        \n",
        "        :param txt: part of text from sentence \n",
        "        :type txt: string\n",
        "        :param txt_c: text color  \n",
        "        :type txt_c: string        \n",
        "        :param txt_hglt: color of text highlighting  \n",
        "        :type txt_hglt: string\n",
        "        :return: string with color labeling\n",
        "        :rtype: string\n",
        "        \"\"\"\n",
        "        return colored(txt, txt_c, txt_hglt)\n",
        "    \n",
        "    @staticmethod\n",
        "    def concat_entities(ner_result):\n",
        "        \"\"\"\n",
        "        Concatenation entities from model output on grouped entities\n",
        "        \n",
        "        :param ner_result: output from model pipeline \n",
        "        :type ner_result: list\n",
        "        :return: list of grouped entities with start - end position in text\n",
        "        :rtype: list\n",
        "        \"\"\"\n",
        "        entities = []\n",
        "        prev_entity = None\n",
        "        prev_end = 0\n",
        "        for i in range(len(ner_result)):\n",
        "            \n",
        "            if (ner_result[i][\"entity_group\"] == prev_entity) &\\\n",
        "               (ner_result[i][\"start\"] == prev_end):\n",
        "                \n",
        "                entities[i-1][2] = ner_result[i][\"end\"]\n",
        "                prev_entity = ner_result[i][\"entity_group\"]\n",
        "                prev_end = ner_result[i][\"end\"]\n",
        "            else:\n",
        "                entities.append([ner_result[i][\"entity_group\"], \n",
        "                                 ner_result[i][\"start\"], \n",
        "                                 ner_result[i][\"end\"]])\n",
        "                prev_entity = ner_result[i][\"entity_group\"]\n",
        "                prev_end = ner_result[i][\"end\"]\n",
        "        \n",
        "        return entities\n",
        "    \n",
        "    def colored_text(self, text: str, entities: list):\n",
        "        \"\"\"\n",
        "        Highlighting in the text named entities\n",
        "        \n",
        "        :param text: sentence or a part of corpus\n",
        "        :type text: string\n",
        "        :param entities: concated entities on groups with start - end position in text\n",
        "        :type entities: list\n",
        "        :return: Highlighted sentence\n",
        "        :rtype: string\n",
        "        \"\"\"\n",
        "        colored_text = \"\"\n",
        "        init_pos = 0\n",
        "        for ent in entities:\n",
        "            if ent[1] > init_pos:\n",
        "                colored_text += text[init_pos: ent[1]]\n",
        "                colored_text += self.text_color(text[ent[1]: ent[2]]) + f\"({ent[0]})\"\n",
        "                init_pos = ent[2]\n",
        "            else:\n",
        "                colored_text += self.text_color(text[ent[1]: ent[2]]) + f\"({ent[0]})\"\n",
        "                init_pos = ent[2]\n",
        "        \n",
        "        return colored_text\n",
        "    \n",
        "    def get_entities(self, text: str):\n",
        "        \"\"\"\n",
        "        Extracting entities from text with them position in text\n",
        "        \n",
        "        :param text: input sentence for preparing\n",
        "        :type text: string\n",
        "        :return: list with entities from text\n",
        "        :rtype: list\n",
        "        \"\"\"\n",
        "        assert len(text) > 0, text\n",
        "        entities = self.token_pred_pipeline(text)\n",
        "        concat_ent = self.concat_entities(entities)\n",
        "        \n",
        "        return concat_ent\n",
        "    \n",
        "    def show_ents_on_text(self, text: str):\n",
        "        \"\"\"\n",
        "        Highlighting named entities in input text \n",
        "        \n",
        "        :param text: input sentence for preparing\n",
        "        :type text: string\n",
        "        :return: Highlighting text\n",
        "        :rtype: string\n",
        "        \"\"\"\n",
        "        assert len(text) > 0, text\n",
        "        entities = self.get_entities(text)\n",
        "        \n",
        "        return self.colored_text(text, entities)"
      ],
      "metadata": {
        "id": "iK959CGhkXHA"
      },
      "execution_count": 11,
      "outputs": []
    },
    {
      "cell_type": "code",
      "source": [
        "# загрузим саму модель\n",
        "\n",
        "extractor = Ner_Extractor(model_checkpoint = \"surdan/LaBSE_ner_nerel\")"
      ],
      "metadata": {
        "id": "EhNYuU9fkaBM"
      },
      "execution_count": 12,
      "outputs": []
    },
    {
      "cell_type": "code",
      "source": [
        "# напишем небольшую функцию, которая вернет нам в удобном виде проанализированные предложения\n",
        "# а также функцию для красивого отображения проанализированных предложений\n",
        "\n",
        "def entities(seqs_example):\n",
        "    l_entities = [extractor.get_entities(i) for i in seqs_example]\n",
        "    print(len(l_entities), len(seqs_example))\n",
        "    return np.array(l_entities)\n",
        "\n",
        "def show_entities(seqs_example):\n",
        "    show_entities_in_text = (extractor.show_ents_on_text(i) for i in seqs_example)\n",
        "    for i in range(len(seqs_example)):\n",
        "        print(next(show_entities_in_text, \"End of generator\"))\n",
        "        print(\"-*-\"*25)"
      ],
      "metadata": {
        "id": "rYcmYpIpqSOd"
      },
      "execution_count": 13,
      "outputs": []
    },
    {
      "cell_type": "code",
      "source": [
        "# запустим эту функцию на ВСЕХ предложениях диалога. Так как в тестовом задании,\n",
        "# когда упоминали нахождение названий компаний не конкретизировали делать ли это у менеджера или нет\n",
        "l_entities = entities(df['text'].values)\n",
        "l_entities"
      ],
      "metadata": {
        "colab": {
          "base_uri": "https://localhost:8080/"
        },
        "id": "37E13IwIpliH",
        "outputId": "fbb85b5f-66cb-4646-dbd8-bd892b942885"
      },
      "execution_count": 16,
      "outputs": [
        {
          "output_type": "stream",
          "name": "stdout",
          "text": [
            "480 480\n"
          ]
        },
        {
          "output_type": "stream",
          "name": "stderr",
          "text": [
            "/usr/local/lib/python3.7/dist-packages/ipykernel_launcher.py:7: VisibleDeprecationWarning: Creating an ndarray from ragged nested sequences (which is a list-or-tuple of lists-or-tuples-or ndarrays with different lengths or shapes) is deprecated. If you meant to do this, you must specify 'dtype=object' when creating the ndarray.\n",
            "  import sys\n"
          ]
        },
        {
          "output_type": "execute_result",
          "data": {
            "text/plain": [
              "array([list([['CITY', 0, 4]]), list([['CITY', 0, 4], ['EVENT', 5, 17]]),\n",
              "       list([['EVENT', 0, 11]]), list([['PERSON', 11, 19]]),\n",
              "       list([['PERSON', 0, 3]]), list([]), list([]), list([]), list([]),\n",
              "       list([]), list([]), list([]), list([]), list([['NUMBER', 97, 98]]),\n",
              "       list([]), list([]), list([['NUMBER', 45, 47]]), list([]), list([]),\n",
              "       list([['PERSON', 0, 5]]), list([]),\n",
              "       list([['NUMBER', 13, 14], ['DATE', 22, 40]]), list([]), list([]),\n",
              "       list([['AGE', 87, 93]]),\n",
              "       list([['DATE', 0, 1], ['DATE', 2, 7], ['DATE', 8, 9], ['NUMBER', 10, 11]]),\n",
              "       list([['DATE', 27, 34]]), list([]), list([]), list([]), list([]),\n",
              "       list([]), list([['PERSON', 0, 3]]), list([]),\n",
              "       list([['AGE', 10, 12]]), list([]),\n",
              "       list([['DISTRICT', 0, 3], ['EVENT', 4, 10]]), list([]), list([]),\n",
              "       list([]), list([]), list([['DATE', 0, 7], ['AGE', 8, 12]]),\n",
              "       list([]), list([]), list([]), list([]), list([]),\n",
              "       list([['DATE', 29, 37]]), list([]), list([]),\n",
              "       list([['NUMBER', 23, 26]]), list([]), list([]), list([]), list([]),\n",
              "       list([]), list([['DATE', 20, 28]]), list([['PROFESSION', 6, 15]]),\n",
              "       list([]), list([]), list([]), list([]), list([]), list([]),\n",
              "       list([]), list([]), list([]), list([]), list([]),\n",
              "       list([['PRODUCT', 2, 10]]), list([]), list([]),\n",
              "       list([['MONEY', 7, 14]]), list([]), list([]), list([]), list([]),\n",
              "       list([['DATE', 47, 55]]), list([]), list([]),\n",
              "       list([['CITY', 0, 4]]), list([]), list([]), list([]),\n",
              "       list([['LAW', 7, 14]]), list([['DATE', 6, 14]]), list([]),\n",
              "       list([['AGE', 5, 7]]), list([]), list([]), list([]),\n",
              "       list([['PERSON', 0, 3]]), list([]), list([['PERSON', 0, 3]]),\n",
              "       list([]), list([]), list([['DATE', 33, 41]]),\n",
              "       list([['NUMBER', 57, 59], ['NUMBER', 60, 64]]), list([]), list([]),\n",
              "       list([]), list([]), list([]), list([]), list([]), list([]),\n",
              "       list([]), list([['PERSON', 0, 3]]), list([]), list([]),\n",
              "       list([['CITY', 0, 4], ['EVENT', 5, 17]]),\n",
              "       list([['PERSON', 11, 19]]), list([['DATE', 26, 36]]),\n",
              "       list([['DATE', 0, 10]]), list([['DATE', 0, 10]]),\n",
              "       list([['NUMBER', 15, 16]]),\n",
              "       list([['TIME', 0, 14], ['DATE', 15, 24]]), list([]), list([]),\n",
              "       list([['NUMBER', 0, 1]]), list([]), list([['PERSON', 0, 3]]),\n",
              "       list([['NUMBER', 0, 1], ['NUMBER', 2, 3], ['NUMBER', 4, 5], ['NUMBER', 6, 7], ['NUMBER', 8, 9], ['NUMBER', 24, 25]]),\n",
              "       list([]),\n",
              "       list([['TIME', 11, 20], ['NUMBER', 21, 22], ['NUMBER', 23, 24]]),\n",
              "       list([['NUMBER', 0, 2], ['NUMBER', 20, 21], ['NUMBER', 22, 23], ['NUMBER', 24, 25], ['NUMBER', 26, 27], ['NUMBER', 28, 29], ['DATE', 56, 67], ['NUMBER', 75, 76]]),\n",
              "       list([['DATE', 25, 37], ['MONEY', 42, 49]]),\n",
              "       list([['NUMBER', 4, 5], ['NUMBER', 47, 52]]),\n",
              "       list([['NUMBER', 3, 8]]),\n",
              "       list([['MONEY', 0, 5], ['NUMBER', 66, 67], ['NUMBER', 116, 117]]),\n",
              "       list([]), list([['CITY', 0, 4]]), list([]), list([]), list([]),\n",
              "       list([]), list([['TIME', 14, 21]]), list([['PROFESSION', 26, 32]]),\n",
              "       list([['PERSON', 0, 3]]), list([]),\n",
              "       list([['NUMBER', 0, 1], ['TIME', 74, 83]]),\n",
              "       list([['NUMBER', 7, 8], ['NUMBER', 9, 10], ['NUMBER', 11, 12]]),\n",
              "       list([['NUMBER', 20, 21], ['NUMBER', 22, 23]]),\n",
              "       list([['NUMBER', 10, 13], ['NUMBER', 14, 16], ['NUMBER', 17, 19]]),\n",
              "       list([['NUMBER', 39, 40]]), list([]),\n",
              "       list([['NUMBER', 0, 3], ['NUMBER', 4, 6], ['NUMBER', 7, 9]]),\n",
              "       list([]), list([['TIME', 7, 13], ['TIME', 14, 23]]),\n",
              "       list([['ORGANIZATION', 10, 31]]), list([['NUMBER', 29, 30]]),\n",
              "       list([['DATE', 0, 10]]), list([]),\n",
              "       list([['DATE', 9, 19], ['EVENT', 34, 37]]), list([]), list([]),\n",
              "       list([['PRODUCT', 20, 26]]), list([]), list([['ORDINAL', 55, 56]]),\n",
              "       list([['PERSON', 25, 38]]), list([['PERSON', 0, 3]]), list([]),\n",
              "       list([]), list([['EVENT', 0, 11]]), list([['CITY', 0, 4]]),\n",
              "       list([['CITY', 0, 12]]), list([['CITY', 0, 4], ['EVENT', 5, 17]]),\n",
              "       list([['PERSON', 11, 19], ['PROFESSION', 86, 93]]), list([]),\n",
              "       list([]), list([]), list([]), list([]), list([]), list([]),\n",
              "       list([['NUMBER', 81, 89], ['PERCENT', 139, 142]]), list([]),\n",
              "       list([['ORGANIZATION', 0, 8]]), list([]),\n",
              "       list([['LOCATION', 11, 17]]), list([]), list([]),\n",
              "       list([['PRODUCT', 24, 30]]), list([['PERSON', 0, 3]]),\n",
              "       list([['PERCENT', 51, 54]]), list([]),\n",
              "       list([['PROFESSION', 76, 84], ['TIME', 179, 193]]),\n",
              "       list([['DATE', 32, 51]]), list([]), list([['EVENT', 0, 16]]),\n",
              "       list([['PERSON', 0, 8]]), list([['PERSON', 0, 3]]), list([]),\n",
              "       list([]), list([]), list([]), list([['PRODUCT', 23, 30]]),\n",
              "       list([['PERSON', 0, 3]]), list([['PERSON', 0, 3]]),\n",
              "       list([['EVENT', 15, 30]]), list([]), list([]), list([]), list([]),\n",
              "       list([['NUMBER', 22, 31]]), list([]), list([]), list([]),\n",
              "       list([['PERSON', 0, 3]]), list([]), list([['PERCENT', 49, 58]]),\n",
              "       list([]), list([['PERSON', 0, 3]]), list([['PERCENT', 16, 19]]),\n",
              "       list([]), list([]), list([]), list([['IDEOLOGY', 0, 12]]),\n",
              "       list([['PRODUCT', 18, 24], ['PRODUCT', 32, 37]]), list([]),\n",
              "       list([['IDEOLOGY', 0, 12]]), list([]), list([]), list([]),\n",
              "       list([]), list([['NUMBER', 47, 48]]), list([]),\n",
              "       list([['PERSON', 0, 7]]), list([['PERSON', 0, 7]]), list([]),\n",
              "       list([]), list([]), list([['PERSON', 0, 7], ['FACILITY', 16, 24]]),\n",
              "       list([['PERSON', 0, 3]]), list([]),\n",
              "       list([['DATE', 94, 113], ['PROFESSION', 146, 163]]),\n",
              "       list([['DATE', 14, 20], ['DATE', 32, 40]]),\n",
              "       list([['PERSON', 0, 3]]), list([]), list([]), list([]),\n",
              "       list([['PROFESSION', 31, 40], ['PRODUCT', 109, 115]]),\n",
              "       list([['PERSON', 0, 3]]), list([]), list([]),\n",
              "       list([['PERSON', 0, 3]]), list([['DATE', 43, 62]]), list([]),\n",
              "       list([['EVENT', 0, 10]]), list([['EVENT', 0, 11]]),\n",
              "       list([['PERSON', 5, 12]]), list([['PERSON', 12, 18]]), list([]),\n",
              "       list([['PERSON', 3, 10], ['PERSON', 31, 40]]), list([]),\n",
              "       list([['TIME', 21, 28]]), list([['PERSON', 0, 3]]), list([]),\n",
              "       list([]), list([]), list([]), list([]), list([]), list([]),\n",
              "       list([]), list([]), list([]), list([['PERSON', 0, 3]]), list([]),\n",
              "       list([['DATE', 2, 7]]), list([]), list([]), list([]), list([]),\n",
              "       list([]), list([]), list([]), list([]), list([['PERSON', 0, 3]]),\n",
              "       list([]), list([]), list([]),\n",
              "       list([['ORDINAL', 253, 254], ['PROFESSION', 568, 577]]),\n",
              "       list([['PERSON', 0, 3]]), list([]),\n",
              "       list([['ORDINAL', 449, 450], ['NUMBER', 604, 605]]),\n",
              "       list([['PERSON', 0, 3]]), list([]), list([]),\n",
              "       list([['DATE', 21, 35]]), list([['PROFESSION', 19, 32]]),\n",
              "       list([['PERSON', 0, 3]]), list([['DISTRICT', 0, 6]]), list([]),\n",
              "       list([['DATE', 0, 12]]), list([]), list([]),\n",
              "       list([['TIME', 8, 13], ['TIME', 14, 18]]),\n",
              "       list([['NUMBER', 0, 2], ['NUMBER', 22, 24]]),\n",
              "       list([['DISTRICT', 0, 3], ['EVENT', 8, 14]]),\n",
              "       list([['DATE', 18, 30]]), list([]), list([['CITY', 0, 4]]),\n",
              "       list([['CITY', 0, 4]]), list([['LOCATION', 0, 6]]), list([]),\n",
              "       list([['PERSON', 0, 3]]), list([]), list([]),\n",
              "       list([['PERSON', 0, 3]]), list([]),\n",
              "       list([['DATE', 18, 24], ['NUMBER', 25, 32]]), list([]), list([]),\n",
              "       list([['DATE', 6, 12]]), list([['PERSON', 0, 3]]), list([]),\n",
              "       list([]), list([]), list([]), list([]), list([['PERSON', 0, 3]]),\n",
              "       list([]), list([]), list([]), list([]), list([['PERSON', 0, 3]]),\n",
              "       list([]), list([]), list([]), list([]), list([['TIME', 0, 2]]),\n",
              "       list([['DATE', 43, 56]]), list([]),\n",
              "       list([['DATE', 62, 75], ['DATE', 80, 90]]),\n",
              "       list([['DATE', 0, 10], ['DATE', 34, 45]]), list([]),\n",
              "       list([['CITY', 0, 4]]), list([['EVENT', 7, 16]]), list([]),\n",
              "       list([['PERSON', 0, 3]]), list([]), list([['PROFESSION', 20, 31]]),\n",
              "       list([]), list([['DISTRICT', 0, 6]]), list([]), list([]), list([]),\n",
              "       list([]), list([['PERSON', 0, 3]]), list([]),\n",
              "       list([['PRODUCT', 85, 91]]),\n",
              "       list([['PERSON', 0, 8], ['EVENT', 12, 14]]), list([]), list([]),\n",
              "       list([['PERSON', 0, 8], ['EVENT', 12, 14]]), list([]), list([]),\n",
              "       list([['PERSON', 22, 31]]), list([]), list([]), list([]), list([]),\n",
              "       list([]), list([]), list([]), list([]), list([]), list([]),\n",
              "       list([]), list([]), list([]), list([]), list([]), list([]),\n",
              "       list([]), list([]), list([['PERSON', 0, 8]]), list([]), list([]),\n",
              "       list([['PERSON', 0, 5]]), list([['NUMBER', 5, 6]]), list([]),\n",
              "       list([['PERSON', 0, 3]]), list([['TIME', 0, 3]]),\n",
              "       list([['NUMBER', 29, 30], ['DATE', 66, 71]]),\n",
              "       list([['DATE', 9, 17]]),\n",
              "       list([['DATE', 30, 40], ['DATE', 52, 60], ['DATE', 70, 77]]),\n",
              "       list([]), list([['DATE', 78, 81], ['DATE', 82, 87]]),\n",
              "       list([['NUMBER', 0, 1], ['NUMBER', 2, 7], ['DATE', 59, 69]]),\n",
              "       list([['DATE', 0, 5], ['NUMBER', 31, 36]]), list([['DATE', 0, 8]]),\n",
              "       list([]), list([]), list([]), list([['PERSON', 0, 3]]), list([]),\n",
              "       list([]), list([]), list([]), list([]), list([]),\n",
              "       list([['NUMBER', 25, 30]]), list([['NUMBER', 0, 4]]),\n",
              "       list([['ORDINAL', 0, 2]]), list([]),\n",
              "       list([['DATE', 3, 16], ['DATE', 24, 29]]), list([]),\n",
              "       list([['NUMBER', 0, 3]]), list([]), list([]), list([]), list([]),\n",
              "       list([]), list([['DATE', 20, 28]]), list([]),\n",
              "       list([['NUMBER', 61, 62]]), list([]), list([]), list([]),\n",
              "       list([['NUMBER', 6, 9], ['DATE', 10, 18]]),\n",
              "       list([['PERSON', 0, 3]]), list([]), list([]), list([]), list([]),\n",
              "       list([]), list([]), list([['DATE', 16, 17], ['DATE', 57, 65]]),\n",
              "       list([]), list([]), list([]), list([['PERSON', 0, 4]]),\n",
              "       list([['NUMBER', 67, 69], ['TIME', 70, 75], ['TIME', 80, 84], ['TIME', 85, 95], ['TIME', 117, 125], ['DATE', 196, 202]]),\n",
              "       list([]), list([['PERSON', 0, 5]]), list([]), list([]), list([]),\n",
              "       list([['PERSON', 0, 3]]), list([]), list([['PROFESSION', 7, 17]]),\n",
              "       list([['TIME', 0, 2], ['PERSON', 3, 8]]),\n",
              "       list([['PERSON', 26, 32]]), list([['PERSON', 0, 3]]),\n",
              "       list([['DATE', 2, 7]]), list([]), list([['NUMBER', 129, 133]]),\n",
              "       list([['EVENT', 0, 15]]), list([]), list([]),\n",
              "       list([['DATE', 68, 83], ['DATE', 94, 104], ['DATE', 105, 116]]),\n",
              "       list([]), list([['PERSON', 0, 3]]), list([['CITY', 0, 4]]),\n",
              "       list([['DATE', 16, 23], ['TIME', 53, 83]]), list([]),\n",
              "       list([['TIME', 0, 2]]), list([['PERSON', 0, 5]]),\n",
              "       list([['DATE', 12, 18], ['DATE', 77, 84]]),\n",
              "       list([['DATE', 38, 51], ['ORDINAL', 171, 172]]), list([]),\n",
              "       list([['NUMBER', 0, 1], ['NUMBER', 2, 3], ['NUMBER', 4, 5], ['NUMBER', 6, 7]]),\n",
              "       list([['PERSON', 0, 3]]),\n",
              "       list([['ORDINAL', 0, 1], ['NUMBER', 2, 3]]),\n",
              "       list([['PERSON', 0, 3]]),\n",
              "       list([['NUMBER', 0, 1], ['NUMBER', 2, 3], ['NUMBER', 4, 5], ['NUMBER', 6, 7]]),\n",
              "       list([['NUMBER', 13, 14], ['NUMBER', 15, 16]]),\n",
              "       list([['PERSON', 0, 3]]),\n",
              "       list([['NUMBER', 0, 1], ['NUMBER', 2, 3], ['NUMBER', 4, 5], ['NUMBER', 6, 7]]),\n",
              "       list([['NUMBER', 0, 1], ['NUMBER', 2, 3], ['NUMBER', 4, 5], ['NUMBER', 6, 7]]),\n",
              "       list([['PERSON', 4, 11]]), list([['DATE', 19, 25]]), list([]),\n",
              "       list([]), list([['PRODUCT', 77, 84]]), list([]), list([]),\n",
              "       list([['TIME', 24, 30]])], dtype=object)"
            ]
          },
          "metadata": {},
          "execution_count": 16
        }
      ]
    },
    {
      "cell_type": "code",
      "source": [
        "# для более удобной обработки тегов напишем вспомогательную функцию, которая в базе данных находит \n",
        "# все вхождения какого либо тега\n",
        "\n",
        "def find_tag(df, entities, tag, indices=None):\n",
        "    tags = []\n",
        "    if indices == None:\n",
        "        indices = range(len(entities))\n",
        "\n",
        "    for i in indices:\n",
        "        if len(entities[i]) > 0:\n",
        "            for j in range(len(entities[i])):\n",
        "                if entities[i][j][0] == tag:\n",
        "                    tags.append((df['text'][i][entities[i][j][1]:entities[i][j][2]], i))\n",
        "    return tags"
      ],
      "metadata": {
        "id": "Cdbn4gpqrQ9J"
      },
      "execution_count": 17,
      "outputs": []
    },
    {
      "cell_type": "code",
      "source": [
        "# имена менеджера логичнее всего искать в предложениях, которые мы уже пометили как \"представился\"\n",
        "# поэтому мы не будем запускать функцию для всей базы данных, а только для помеченных предложений\n",
        "\n",
        "find_tag(df, l_entities, 'PERSON', name_indices)"
      ],
      "metadata": {
        "colab": {
          "base_uri": "https://localhost:8080/"
        },
        "id": "TgctmQtxs2RM",
        "outputId": "2dd0baa0-c2bc-487f-e239-43dd3066b450"
      },
      "execution_count": 18,
      "outputs": [
        {
          "output_type": "execute_result",
          "data": {
            "text/plain": [
              "[('ангелина', 3), ('ангелина', 111), ('ангелина', 167), ('максим', 251)]"
            ]
          },
          "metadata": {},
          "execution_count": 18
        }
      ]
    },
    {
      "cell_type": "code",
      "source": [
        "# к сожалению, в клетке выше не отметился случай, с менеджером Анастасией на строчке 338\n",
        "# давайте посмотрим какие теги отметились в данном предложении чтобы проанализировать на будущее\n",
        "\n",
        "show_entities([df['text'][338]])"
      ],
      "metadata": {
        "colab": {
          "base_uri": "https://localhost:8080/"
        },
        "id": "8-Mu_1ons7yf",
        "outputId": "3841fdf4-54d3-4324-a866-6051b289717a"
      },
      "execution_count": 19,
      "outputs": [
        {
          "output_type": "stream",
          "name": "stdout",
          "text": [
            "Да это \u001b[43m\u001b[34mанастасия\u001b[0m(EVENT)\n",
            "-*--*--*--*--*--*--*--*--*--*--*--*--*--*--*--*--*--*--*--*--*--*--*--*--*-\n"
          ]
        }
      ]
    },
    {
      "cell_type": "code",
      "source": [
        "# сверху мы видим, что \"анастасия\" была отмечена как событие. Однако же если написать то же предложение, но\n",
        "# имя написать с заглавной буквы, то результат будет другим:\n",
        "\n",
        "show_entities(['Да это Анастасия'])"
      ],
      "metadata": {
        "colab": {
          "base_uri": "https://localhost:8080/"
        },
        "id": "yALpZPgpved0",
        "outputId": "6ee4cd35-b151-4136-8c49-7f610b7eeccd"
      },
      "execution_count": 20,
      "outputs": [
        {
          "output_type": "stream",
          "name": "stdout",
          "text": [
            "Да это \u001b[43m\u001b[34mАнастасия\u001b[0m(PERSON)\n",
            "-*--*--*--*--*--*--*--*--*--*--*--*--*--*--*--*--*--*--*--*--*--*--*--*--*-\n"
          ]
        }
      ]
    },
    {
      "cell_type": "code",
      "source": [
        "# таким образом сеть работает, хорошо, но когда данные не учитывают регистр, это затрудняет делать предположения сети. \n",
        "\n",
        "# Перейдем к нахождению имен компаний в базе данных. В нашем случае достаточно запустить функцию на тег 'ORGANIZATION'\n",
        "# так как не упоминалось что нужно найти названия компании только у менеджера, будем искать по всем предложения тег ORGANIZATION\n",
        "\n",
        "find_tag(df, l_entities, 'ORGANIZATION')"
      ],
      "metadata": {
        "colab": {
          "base_uri": "https://localhost:8080/"
        },
        "id": "ZVcfHG-br3Ym",
        "outputId": "32d9523e-66ce-4a87-a016-8d6508d24aab"
      },
      "execution_count": 21,
      "outputs": [
        {
          "output_type": "execute_result",
          "data": {
            "text/plain": [
              "[('техническому кабинету', 149), ('Диджитал', 177)]"
            ]
          },
          "metadata": {},
          "execution_count": 21
        }
      ]
    },
    {
      "cell_type": "code",
      "source": [
        "# видим, что сеть, как минимум, не нашла упоминания менеджеров про китобизнес и диджитал бизнес, давайте попробуем проанализировать\n",
        "\n",
        "print(df['text'][3])\n",
        "show_entities([df['text'][3]])\n",
        "print(df['text'][251])\n",
        "show_entities([df['text'][251]])"
      ],
      "metadata": {
        "colab": {
          "base_uri": "https://localhost:8080/"
        },
        "id": "rYQipRBev8Cn",
        "outputId": "643ac921-b2a1-45c7-edc3-12437f26c6b1"
      },
      "execution_count": 22,
      "outputs": [
        {
          "output_type": "stream",
          "name": "stdout",
          "text": [
            "Меня зовут ангелина компания диджитал бизнес звоним вам по поводу продления лицензии а мы с серым у вас скоро срок заканчивается\n",
            "Меня зовут \u001b[43m\u001b[34mангелина\u001b[0m(PERSON)\n",
            "-*--*--*--*--*--*--*--*--*--*--*--*--*--*--*--*--*--*--*--*--*--*--*--*--*-\n",
            "Добрый меня максим зовут компания китобизнес удобно говорить\n",
            "Добрый меня \u001b[43m\u001b[34mмаксим\u001b[0m(PERSON)\n",
            "-*--*--*--*--*--*--*--*--*--*--*--*--*--*--*--*--*--*--*--*--*--*--*--*--*-\n"
          ]
        }
      ]
    },
    {
      "cell_type": "markdown",
      "source": [
        "Ни диджитал бизнес ни китобизнес не отметились сетью в данном случае, однако мы помним, что Диджитал отметился как организация, когда стоял на первом месте предложения с большой буквой. Опять же подтверждается чувствительность к регистру. Тег \"PERSON\" или \"ORGANIZATION\" и вправду намного вероятнее если написан с большой буквы."
      ],
      "metadata": {
        "id": "35iMZXOSxvv1"
      }
    },
    {
      "cell_type": "code",
      "source": [
        "# в случае компании \"китобизнес\" также интересный момент, она правильно помечается, если не присутствуют \n",
        "# последующие слова, которые сбивают сеть. Видимо она разбивает предложение на n-граммы и в таком случае\n",
        "# вероятности меняются \n",
        "\n",
        "show_entities(['Добрый меня максим зовут компания китобизнес удобно'])\n",
        "show_entities(['Добрый меня максим зовут компания китобизнес'])"
      ],
      "metadata": {
        "colab": {
          "base_uri": "https://localhost:8080/"
        },
        "id": "nINyGxc0xq9y",
        "outputId": "90df4f22-0731-4ebe-ef8d-d2315b45247f"
      },
      "execution_count": 23,
      "outputs": [
        {
          "output_type": "stream",
          "name": "stdout",
          "text": [
            "Добрый меня \u001b[43m\u001b[34mмаксим\u001b[0m(PERSON)\n",
            "-*--*--*--*--*--*--*--*--*--*--*--*--*--*--*--*--*--*--*--*--*--*--*--*--*-\n",
            "Добрый меня \u001b[43m\u001b[34mмаксим\u001b[0m(PERSON) зовут компания \u001b[43m\u001b[34mкитобизнес\u001b[0m(ORGANIZATION)\n",
            "-*--*--*--*--*--*--*--*--*--*--*--*--*--*--*--*--*--*--*--*--*--*--*--*--*-\n"
          ]
        }
      ]
    },
    {
      "cell_type": "code",
      "source": [
        "# перейдем к последнему заданию и будем проверять поздоровался и попрощался ли менеджер с клиентом\n",
        "# как и советовалось в задании, добавим дополнительные столбцы-флажки, которые будут отвечать за\n",
        "# приветствие, представление и прощание. Матрица в таком случае получается немного разреженной к сожалению\n",
        "\n",
        "df['greeted'] = False\n",
        "df['introduced'] = False\n",
        "df['said_goodbye'] = False"
      ],
      "metadata": {
        "id": "ig19BXcXbqFi"
      },
      "execution_count": 24,
      "outputs": []
    },
    {
      "cell_type": "code",
      "source": [
        "# так как мы уже нашли все необходимые индексы, то пометить их не составит труда:\n",
        "\n",
        "df['greeted'][greeting_indices] = True\n",
        "df['introduced'][name_indices] = True\n",
        "df['said_goodbye'][bye_indices] = True"
      ],
      "metadata": {
        "colab": {
          "base_uri": "https://localhost:8080/"
        },
        "id": "XX2KUlVSvG1b",
        "outputId": "63cb9a13-82c5-4871-ad36-524141bbab27"
      },
      "execution_count": 25,
      "outputs": [
        {
          "output_type": "stream",
          "name": "stderr",
          "text": [
            "/usr/local/lib/python3.7/dist-packages/ipykernel_launcher.py:3: SettingWithCopyWarning: \n",
            "A value is trying to be set on a copy of a slice from a DataFrame\n",
            "\n",
            "See the caveats in the documentation: https://pandas.pydata.org/pandas-docs/stable/user_guide/indexing.html#returning-a-view-versus-a-copy\n",
            "  This is separate from the ipykernel package so we can avoid doing imports until\n",
            "/usr/local/lib/python3.7/dist-packages/ipykernel_launcher.py:4: SettingWithCopyWarning: \n",
            "A value is trying to be set on a copy of a slice from a DataFrame\n",
            "\n",
            "See the caveats in the documentation: https://pandas.pydata.org/pandas-docs/stable/user_guide/indexing.html#returning-a-view-versus-a-copy\n",
            "  after removing the cwd from sys.path.\n",
            "/usr/local/lib/python3.7/dist-packages/ipykernel_launcher.py:5: SettingWithCopyWarning: \n",
            "A value is trying to be set on a copy of a slice from a DataFrame\n",
            "\n",
            "See the caveats in the documentation: https://pandas.pydata.org/pandas-docs/stable/user_guide/indexing.html#returning-a-view-versus-a-copy\n",
            "  \"\"\"\n"
          ]
        }
      ]
    },
    {
      "cell_type": "code",
      "source": [
        "# напишем функцию, которая проверяет для каждого телефонного разговора попрощался ли и поздоровался ли менеджер\n",
        "# если что-то не так, то функция выведет айди телефонного разговора\n",
        "\n",
        "def find_bad_managers():\n",
        "    wrong_manager_call_id = []\n",
        "    for i in df['dlg_id'].unique():\n",
        "        if df['greeted'][df['dlg_id'] == i].sum() == 0 or df['said_goodbye'][df['dlg_id'] == i].sum() == 0:\n",
        "            wrong_manager_call_id.append(i)\n",
        "    return wrong_manager_call_id"
      ],
      "metadata": {
        "id": "WBTGtGhWb1bA"
      },
      "execution_count": 26,
      "outputs": []
    },
    {
      "cell_type": "code",
      "source": [
        "# вызовем функцию и найдем наконец-то нарушителей!\n",
        "\n",
        "find_bad_managers()"
      ],
      "metadata": {
        "colab": {
          "base_uri": "https://localhost:8080/"
        },
        "id": "ju497hBJujOn",
        "outputId": "3f138554-609b-44a1-fd38-cbc613c7df82"
      },
      "execution_count": 27,
      "outputs": [
        {
          "output_type": "execute_result",
          "data": {
            "text/plain": [
              "[2, 4, 5]"
            ]
          },
          "metadata": {},
          "execution_count": 27
        }
      ]
    },
    {
      "cell_type": "markdown",
      "source": [],
      "metadata": {
        "id": "329r4UhKyBVL"
      }
    }
  ]
}